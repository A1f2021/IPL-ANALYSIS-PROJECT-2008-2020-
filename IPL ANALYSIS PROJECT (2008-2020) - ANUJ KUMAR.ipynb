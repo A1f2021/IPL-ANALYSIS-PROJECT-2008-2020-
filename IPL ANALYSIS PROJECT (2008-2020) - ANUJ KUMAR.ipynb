{
 "cells": [
  {
   "cell_type": "code",
   "execution_count": 5,
   "id": "de23eda8",
   "metadata": {},
   "outputs": [],
   "source": [
    "#Importing Libraries\n",
    "import math\n",
    "import numpy as np\n",
    "import pandas as pd\n",
    "import seaborn as sns\n",
    "import matplotlib.pyplot as plt\n",
    "%matplotlib inline\n"
   ]
  },
  {
   "cell_type": "code",
   "execution_count": 7,
   "id": "76af7368",
   "metadata": {},
   "outputs": [
    {
     "data": {
      "text/html": [
       "<div>\n",
       "<style scoped>\n",
       "    .dataframe tbody tr th:only-of-type {\n",
       "        vertical-align: middle;\n",
       "    }\n",
       "\n",
       "    .dataframe tbody tr th {\n",
       "        vertical-align: top;\n",
       "    }\n",
       "\n",
       "    .dataframe thead th {\n",
       "        text-align: right;\n",
       "    }\n",
       "</style>\n",
       "<table border=\"1\" class=\"dataframe\">\n",
       "  <thead>\n",
       "    <tr style=\"text-align: right;\">\n",
       "      <th></th>\n",
       "      <th>match_id</th>\n",
       "      <th>season</th>\n",
       "      <th>start_date</th>\n",
       "      <th>venue</th>\n",
       "      <th>innings</th>\n",
       "      <th>ball</th>\n",
       "      <th>batting_team</th>\n",
       "      <th>bowling_team</th>\n",
       "      <th>striker</th>\n",
       "      <th>non_striker</th>\n",
       "      <th>...</th>\n",
       "      <th>runs_off_bat</th>\n",
       "      <th>extras</th>\n",
       "      <th>wides</th>\n",
       "      <th>noballs</th>\n",
       "      <th>byes</th>\n",
       "      <th>legbyes</th>\n",
       "      <th>wicket_type</th>\n",
       "      <th>player_dismissed</th>\n",
       "      <th>run</th>\n",
       "      <th>over</th>\n",
       "    </tr>\n",
       "  </thead>\n",
       "  <tbody>\n",
       "    <tr>\n",
       "      <th>0</th>\n",
       "      <td>335982</td>\n",
       "      <td>2008</td>\n",
       "      <td>2008-04-18</td>\n",
       "      <td>M.Chinnaswamy Stadium</td>\n",
       "      <td>1</td>\n",
       "      <td>0.1</td>\n",
       "      <td>Kolkata Knight Riders</td>\n",
       "      <td>Royal Challengers Bangalore</td>\n",
       "      <td>SC Ganguly</td>\n",
       "      <td>BB McCullum</td>\n",
       "      <td>...</td>\n",
       "      <td>0</td>\n",
       "      <td>1</td>\n",
       "      <td>0.0</td>\n",
       "      <td>0.0</td>\n",
       "      <td>0.0</td>\n",
       "      <td>1.0</td>\n",
       "      <td></td>\n",
       "      <td></td>\n",
       "      <td>1</td>\n",
       "      <td>0</td>\n",
       "    </tr>\n",
       "    <tr>\n",
       "      <th>1</th>\n",
       "      <td>335982</td>\n",
       "      <td>2008</td>\n",
       "      <td>2008-04-18</td>\n",
       "      <td>M.Chinnaswamy Stadium</td>\n",
       "      <td>1</td>\n",
       "      <td>0.2</td>\n",
       "      <td>Kolkata Knight Riders</td>\n",
       "      <td>Royal Challengers Bangalore</td>\n",
       "      <td>BB McCullum</td>\n",
       "      <td>SC Ganguly</td>\n",
       "      <td>...</td>\n",
       "      <td>0</td>\n",
       "      <td>0</td>\n",
       "      <td>0.0</td>\n",
       "      <td>0.0</td>\n",
       "      <td>0.0</td>\n",
       "      <td>0.0</td>\n",
       "      <td></td>\n",
       "      <td></td>\n",
       "      <td>0</td>\n",
       "      <td>0</td>\n",
       "    </tr>\n",
       "    <tr>\n",
       "      <th>2</th>\n",
       "      <td>335982</td>\n",
       "      <td>2008</td>\n",
       "      <td>2008-04-18</td>\n",
       "      <td>M.Chinnaswamy Stadium</td>\n",
       "      <td>1</td>\n",
       "      <td>0.3</td>\n",
       "      <td>Kolkata Knight Riders</td>\n",
       "      <td>Royal Challengers Bangalore</td>\n",
       "      <td>BB McCullum</td>\n",
       "      <td>SC Ganguly</td>\n",
       "      <td>...</td>\n",
       "      <td>0</td>\n",
       "      <td>1</td>\n",
       "      <td>1.0</td>\n",
       "      <td>0.0</td>\n",
       "      <td>0.0</td>\n",
       "      <td>0.0</td>\n",
       "      <td></td>\n",
       "      <td></td>\n",
       "      <td>1</td>\n",
       "      <td>0</td>\n",
       "    </tr>\n",
       "    <tr>\n",
       "      <th>3</th>\n",
       "      <td>335982</td>\n",
       "      <td>2008</td>\n",
       "      <td>2008-04-18</td>\n",
       "      <td>M.Chinnaswamy Stadium</td>\n",
       "      <td>1</td>\n",
       "      <td>0.4</td>\n",
       "      <td>Kolkata Knight Riders</td>\n",
       "      <td>Royal Challengers Bangalore</td>\n",
       "      <td>BB McCullum</td>\n",
       "      <td>SC Ganguly</td>\n",
       "      <td>...</td>\n",
       "      <td>0</td>\n",
       "      <td>0</td>\n",
       "      <td>0.0</td>\n",
       "      <td>0.0</td>\n",
       "      <td>0.0</td>\n",
       "      <td>0.0</td>\n",
       "      <td></td>\n",
       "      <td></td>\n",
       "      <td>0</td>\n",
       "      <td>0</td>\n",
       "    </tr>\n",
       "    <tr>\n",
       "      <th>4</th>\n",
       "      <td>335982</td>\n",
       "      <td>2008</td>\n",
       "      <td>2008-04-18</td>\n",
       "      <td>M.Chinnaswamy Stadium</td>\n",
       "      <td>1</td>\n",
       "      <td>0.5</td>\n",
       "      <td>Kolkata Knight Riders</td>\n",
       "      <td>Royal Challengers Bangalore</td>\n",
       "      <td>BB McCullum</td>\n",
       "      <td>SC Ganguly</td>\n",
       "      <td>...</td>\n",
       "      <td>0</td>\n",
       "      <td>0</td>\n",
       "      <td>0.0</td>\n",
       "      <td>0.0</td>\n",
       "      <td>0.0</td>\n",
       "      <td>0.0</td>\n",
       "      <td></td>\n",
       "      <td></td>\n",
       "      <td>0</td>\n",
       "      <td>0</td>\n",
       "    </tr>\n",
       "  </tbody>\n",
       "</table>\n",
       "<p>5 rows × 21 columns</p>\n",
       "</div>"
      ],
      "text/plain": [
       "   match_id  season  start_date                  venue  innings  ball  \\\n",
       "0    335982    2008  2008-04-18  M.Chinnaswamy Stadium        1   0.1   \n",
       "1    335982    2008  2008-04-18  M.Chinnaswamy Stadium        1   0.2   \n",
       "2    335982    2008  2008-04-18  M.Chinnaswamy Stadium        1   0.3   \n",
       "3    335982    2008  2008-04-18  M.Chinnaswamy Stadium        1   0.4   \n",
       "4    335982    2008  2008-04-18  M.Chinnaswamy Stadium        1   0.5   \n",
       "\n",
       "            batting_team                 bowling_team      striker  \\\n",
       "0  Kolkata Knight Riders  Royal Challengers Bangalore   SC Ganguly   \n",
       "1  Kolkata Knight Riders  Royal Challengers Bangalore  BB McCullum   \n",
       "2  Kolkata Knight Riders  Royal Challengers Bangalore  BB McCullum   \n",
       "3  Kolkata Knight Riders  Royal Challengers Bangalore  BB McCullum   \n",
       "4  Kolkata Knight Riders  Royal Challengers Bangalore  BB McCullum   \n",
       "\n",
       "   non_striker  ... runs_off_bat  extras  wides  noballs  byes  legbyes  \\\n",
       "0  BB McCullum  ...            0       1    0.0      0.0   0.0      1.0   \n",
       "1   SC Ganguly  ...            0       0    0.0      0.0   0.0      0.0   \n",
       "2   SC Ganguly  ...            0       1    1.0      0.0   0.0      0.0   \n",
       "3   SC Ganguly  ...            0       0    0.0      0.0   0.0      0.0   \n",
       "4   SC Ganguly  ...            0       0    0.0      0.0   0.0      0.0   \n",
       "\n",
       "   wicket_type player_dismissed run  over  \n",
       "0                                 1     0  \n",
       "1                                 0     0  \n",
       "2                                 1     0  \n",
       "3                                 0     0  \n",
       "4                                 0     0  \n",
       "\n",
       "[5 rows x 21 columns]"
      ]
     },
     "execution_count": 7,
     "metadata": {},
     "output_type": "execute_result"
    }
   ],
   "source": [
    "#Importing IPL Dataset\n",
    "df=pd.read_csv('IPL Dataset.csv')\n",
    "df.head()\n",
    "\n"
   ]
  },
  {
   "cell_type": "code",
   "execution_count": 8,
   "id": "9e5e60bd",
   "metadata": {},
   "outputs": [
    {
     "data": {
      "text/plain": [
       "M.Chinnaswamy Stadium                                   80\n",
       "Eden Gardens                                            77\n",
       "Arun Jaitley Stadium                                    74\n",
       "Wankhede Stadium, Mumbai                                74\n",
       "Rajiv Gandhi International Stadium, Uppal               64\n",
       "MA Chidambaram Stadium, Chepauk, Chennai                59\n",
       "Punjab Cricket Association IS Bindra Stadium, Mohali    56\n",
       "Sawai Mansingh Stadium                                  47\n",
       "Dubai International Cricket Stadium                     33\n",
       "Sheikh Zayed Stadium                                    29\n",
       "Maharashtra Cricket Association Stadium                 21\n",
       "Sharjah Cricket Stadium                                 18\n",
       "Dr DY Patil Sports Academy                              17\n",
       "Subrata Roy Sahara Stadium                              17\n",
       "Kingsmead                                               15\n",
       "Dr. Y.S. Rajasekhara Reddy ACA-VDCA Cricket Stadium     13\n",
       "SuperSport Park                                         12\n",
       "Sardar Patel Stadium, Motera                            12\n",
       "Brabourne Stadium                                       11\n",
       "Saurashtra Cricket Association Stadium                  10\n",
       "Holkar Cricket Stadium                                   9\n",
       "Himachal Pradesh Cricket Association Stadium             9\n",
       "New Wanderers Stadium                                    8\n",
       "JSCA International Stadium Complex                       7\n",
       "Barabati Stadium                                         7\n",
       "St George's Park                                         7\n",
       "Newlands                                                 7\n",
       "Shaheed Veer Narayan Singh International Stadium         6\n",
       "Nehru Stadium                                            5\n",
       "Green Park                                               4\n",
       "Buffalo Park                                             3\n",
       "Vidarbha Cricket Association Stadium, Jamtha             3\n",
       "De Beers Diamond Oval                                    3\n",
       "OUTsurance Oval                                          2\n",
       "Name: venue, dtype: int64"
      ]
     },
     "execution_count": 8,
     "metadata": {},
     "output_type": "execute_result"
    }
   ],
   "source": [
    "#Most IPL Matches played in a Venue\n",
    "df.groupby(['venue','match_id']).count().droplevel(level=1).index.value_counts()\n",
    "\n"
   ]
  },
  {
   "cell_type": "code",
   "execution_count": 8,
   "id": "4b44b572",
   "metadata": {},
   "outputs": [
    {
     "data": {
      "image/png": "[encoded data removed]",
      "text/plain": [
       "<Figure size 720x576 with 1 Axes>"
      ]
     },
     "metadata": {
      "needs_background": "light"
     },
     "output_type": "display_data"
    }
   ],
   "source": [
    "#IPL Matches Played by Each Team\n",
    "plt.figure(figsize=(10,8))\n",
    "data = df['bowling_team'].value_counts().sort_values(ascending=False)\n",
    "sns.barplot(y=data.index,x=data,orient='h')\n",
    "plt.xlabel('Matches Played')\n",
    "plt.ylabel('Team')\n",
    "plt.show()\n"
   ]
  },
  {
   "cell_type": "code",
   "execution_count": 10,
   "id": "66c61107",
   "metadata": {},
   "outputs": [
    {
     "data": {
      "text/plain": [
       "batting_team\n",
       "Mumbai Indians                 32488\n",
       "Royal Challengers Bangalore    30415\n",
       "Kings XI Punjab                30064\n",
       "Kolkata Knight Riders          29606\n",
       "Chennai Super Kings            28560\n",
       "Rajasthan Royals               24542\n",
       "Delhi Daredevils               24296\n",
       "Sunrisers Hyderabad            19539\n",
       "Deccan Chargers                11463\n",
       "Pune Warriors                   6358\n",
       "Delhi Capitals                  5499\n",
       "Gujarat Lions                   4862\n",
       "Rising Pune Supergiant          4533\n",
       "Kochi Tuskers Kerala            1901\n",
       "Name: run, dtype: int64"
      ]
     },
     "execution_count": 10,
     "metadata": {},
     "output_type": "execute_result"
    }
   ],
   "source": [
    "## IPL Batting Analysis\n",
    "\n",
    "#Most Run Scored by IPL Teams\n",
    "df.groupby(['batting_team'])['run'].sum().sort_values(ascending=False)\n",
    "\n",
    "\n"
   ]
  },
  {
   "cell_type": "code",
   "execution_count": 18,
   "id": "133d4e9e",
   "metadata": {},
   "outputs": [
    {
     "data": {
      "image/png": "[encoded data removed]",
      "text/plain": [
       "<Figure size 720x576 with 1 Axes>"
      ]
     },
     "metadata": {
      "needs_background": "light"
     },
     "output_type": "display_data"
    }
   ],
   "source": [
    "#Most IPL Runs by a Batsman\n",
    "\n",
    "plt.figure(figsize=(10,8))\n",
    "data = df.groupby(['striker'])['runs_off_bat'].sum().sort_values(ascending=False)[:10]\n",
    "sns.barplot(y=data.index,x=data,orient='h')\n",
    "plt.xlabel('Batsman')\n",
    "plt.ylabel('Runs')\n",
    "plt.show()\n"
   ]
  },
  {
   "cell_type": "code",
   "execution_count": 20,
   "id": "8130189e",
   "metadata": {},
   "outputs": [
    {
     "data": {
      "text/plain": [
       "striker\n",
       "CH Gayle          6\n",
       "V Kohli           5\n",
       "DA Warner         4\n",
       "SR Watson         4\n",
       "AB de Villiers    3\n",
       "HM Amla           2\n",
       "M Vijay           2\n",
       "KL Rahul          2\n",
       "SV Samson         2\n",
       "S Dhawan          2\n",
       "Name: runs_off_bat, dtype: int64"
      ]
     },
     "execution_count": 20,
     "metadata": {},
     "output_type": "execute_result"
    }
   ],
   "source": [
    "# Most IPL Century by a Player\n",
    "runs = df.groupby(['striker','match_id'])['runs_off_bat'].sum()\n",
    "runs[runs >= 100].droplevel(level=1).groupby('striker').count().sort_values(ascending=False)[:10]\n"
   ]
  },
  {
   "cell_type": "code",
   "execution_count": 24,
   "id": "74b49b6c",
   "metadata": {},
   "outputs": [
    {
     "data": {
      "text/plain": [
       "batting_team\n",
       "Royal Challengers Bangalore    263\n",
       "Royal Challengers Bangalore    248\n",
       "Chennai Super Kings            246\n",
       "Kolkata Knight Riders          245\n",
       "Chennai Super Kings            240\n",
       "Royal Challengers Bangalore    235\n",
       "Kolkata Knight Riders          232\n",
       "Kings XI Punjab                232\n",
       "Delhi Daredevils               231\n",
       "Sunrisers Hyderabad            231\n",
       "Name: run, dtype: int64"
      ]
     },
     "execution_count": 24,
     "metadata": {},
     "output_type": "execute_result"
    }
   ],
   "source": [
    "#Highest Total by IPL Teams\n",
    "df.groupby(['start_date','batting_team']).sum()['run'].droplevel(level=0).sort_values(ascending=False)[:10]\n"
   ]
  },
  {
   "cell_type": "code",
   "execution_count": 13,
   "id": "85363f34",
   "metadata": {},
   "outputs": [
    {
     "data": {
      "text/plain": [
       "SL Malinga         170\n",
       "A Mishra           160\n",
       "PP Chawla          156\n",
       "DJ Bravo           154\n",
       "Harbhajan Singh    150\n",
       "R Ashwin           139\n",
       "B Kumar            137\n",
       "SP Narine          127\n",
       "YS Chahal          121\n",
       "UT Yadav           119\n",
       "Name: bowler, dtype: int64"
      ]
     },
     "execution_count": 13,
     "metadata": {},
     "output_type": "execute_result"
    }
   ],
   "source": [
    "##Bowling Analysis\n",
    "\n",
    "#Most IPL Wickets by a Bowler\n",
    "lst = 'caught,bowled,lbw,stumped,caught and bowled,hit wicket'\n",
    "df[df['wicket_type'].apply(lambda x: True if x in lst and x != ' ' else False)]['bowler'].value_counts()[:10]\n"
   ]
  },
  {
   "cell_type": "code",
   "execution_count": 14,
   "id": "b6678c08",
   "metadata": {},
   "outputs": [
    {
     "data": {
      "image/png": "[encoded data removed]",
      "text/plain": [
       "<Figure size 720x576 with 1 Axes>"
      ]
     },
     "metadata": {
      "needs_background": "light"
     },
     "output_type": "display_data"
    }
   ],
   "source": [
    "#Most Wickets by an IPL Team\n",
    "plt.figure(figsize=(10,8))\n",
    "lst = 'caught,bowled,lbw,stumped,caught and bowled,hit wicket'\n",
    "data = df[df['wicket_type'].apply(lambda x: True if x in lst and x != ' ' else False)]['bowling_team'].value_counts()\n",
    "df.groupby(['batting_team'])['extras'].agg('sum').sort_values(ascending=False)\n",
    "sns.barplot(y=data.index,x=data,orient='h')\n",
    "plt.xlabel('Wickets')\n",
    "plt.ylabel('Teams')\n",
    "plt.show()\n"
   ]
  },
  {
   "cell_type": "code",
   "execution_count": 15,
   "id": "d4822baa",
   "metadata": {},
   "outputs": [
    {
     "data": {
      "text/plain": [
       "P Kumar           12\n",
       "IK Pathan          9\n",
       "SL Malinga         8\n",
       "DW Steyn           8\n",
       "B Kumar            7\n",
       "DS Kulkarni        7\n",
       "Sandeep Sharma     6\n",
       "DJ Bravo           6\n",
       "R Ashwin           5\n",
       "Z Khan             5\n",
       "Name: bowler, dtype: int64"
      ]
     },
     "execution_count": 15,
     "metadata": {},
     "output_type": "execute_result"
    }
   ],
   "source": [
    "#Most Maiden over by a Bowler\n",
    "data = df.groupby(['start_date','bowler','over'])['run'].sum()\n",
    "data = data[data.values == 0].droplevel(level=[0,2])\n",
    "data.index.value_counts()[:10]\n"
   ]
  },
  {
   "cell_type": "code",
   "execution_count": 16,
   "id": "519deb60",
   "metadata": {},
   "outputs": [
    {
     "data": {
      "text/plain": [
       "batting_team\n",
       "Royal Challengers Bangalore    106.0\n",
       "Chennai Super Kings             96.0\n",
       "Mumbai Indians                  96.0\n",
       "Rajasthan Royals                94.0\n",
       "Kolkata Knight Riders           90.0\n",
       "Delhi Daredevils                73.0\n",
       "Kings XI Punjab                 71.0\n",
       "Sunrisers Hyderabad             53.0\n",
       "Deccan Chargers                 49.0\n",
       "Pune Warriors                   24.0\n",
       "Delhi Capitals                  21.0\n",
       "Gujarat Lions                   17.0\n",
       "Kochi Tuskers Kerala            11.0\n",
       "Rising Pune Supergiant           8.0\n",
       "Name: noballs, dtype: float64"
      ]
     },
     "execution_count": 16,
     "metadata": {},
     "output_type": "execute_result"
    }
   ],
   "source": [
    "#Most No Balls by an IPL team\n",
    "df.groupby(['batting_team'])['noballs'].agg('sum').sort_values(ascending=False)\n"
   ]
  },
  {
   "cell_type": "code",
   "execution_count": null,
   "id": "01051fcd",
   "metadata": {},
   "outputs": [],
   "source": []
  }
 ],
 "metadata": {
  "kernelspec": {
   "display_name": "Python 3 (ipykernel)",
   "language": "python",
   "name": "python3"
  },
  "language_info": {
   "codemirror_mode": {
    "name": "ipython",
    "version": 3
   },
   "file_extension": ".py",
   "mimetype": "text/x-python",
   "name": "python",
   "nbconvert_exporter": "python",
   "pygments_lexer": "ipython3",
   "version": "3.10.5"
  }
 },
 "nbformat": 4,
 "nbformat_minor": 5
}
